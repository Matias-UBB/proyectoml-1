{
 "cells": [
  {
   "cell_type": "markdown",
   "metadata": {},
   "source": [
    "Trabajo con datos"
   ]
  },
  {
   "cell_type": "code",
   "execution_count": 1,
   "metadata": {},
   "outputs": [],
   "source": [
    "import pandas as pd\n",
    "import numpy as np\n",
    "from matplotlib import pyplot as plt"
   ]
  },
  {
   "cell_type": "code",
   "execution_count": 2,
   "metadata": {},
   "outputs": [],
   "source": [
    "#SELECCION DATOS DE ENTRENAMIENTO Y TEST , 2023 SE USARAN PARA TEST\n",
    "data_train = pd.read_csv('atp_matches_2000.csv')\n",
    "data_test=pd.read_csv('atp_matches_2023.csv')\n",
    "\n"
   ]
  },
  {
   "cell_type": "code",
   "execution_count": 3,
   "metadata": {},
   "outputs": [],
   "source": [
    "# Concat the data from 2001 to 2022\n",
    "for i in range(1, 22):\n",
    "    data_train = pd.concat([data_train, pd.read_csv('atp_matches_20' + str(i).zfill(2) + '.csv')])\n",
    "data_train.index = range(0,len(data_train)) \n"
   ]
  },
  {
   "cell_type": "code",
   "execution_count": 4,
   "metadata": {},
   "outputs": [
    {
     "name": "stdout",
     "output_type": "stream",
     "text": [
      "Index(['player1_id', 'player1_ht', 'player1_age', 'player2_id', 'player2_ht',\n",
      "       'player2_age', 'player1_rank_points', 'player2_rank_points',\n",
      "       'player_id_win', 'surface_encoded', 'player1_hand_encoded',\n",
      "       'player2_hand_encoded', 'tourney_level_encoded',\n",
      "       'player1_entry_encoded', 'player2_entry_encoded'],\n",
      "      dtype='object')\n"
     ]
    },
    {
     "name": "stderr",
     "output_type": "stream",
     "text": [
      "/tmp/ipykernel_23900/2256230725.py:8: SettingWithCopyWarning: \n",
      "A value is trying to be set on a copy of a slice from a DataFrame.\n",
      "Try using .loc[row_indexer,col_indexer] = value instead\n",
      "\n",
      "See the caveats in the documentation: https://pandas.pydata.org/pandas-docs/stable/user_guide/indexing.html#returning-a-view-versus-a-copy\n",
      "  data_selected_train['player_id_win'] = data_selected_train['winner_id']\n"
     ]
    }
   ],
   "source": [
    "# Seleccionar las columnas deseadas\n",
    "selected_columns = ['tourney_id', 'surface', 'tourney_level', 'winner_id', 'winner_entry', 'winner_hand', 'winner_ht', 'winner_age', 'loser_id', 'loser_entry', 'loser_hand', 'loser_ht', 'loser_age', 'winner_rank_points', 'loser_rank_points']\n",
    "\n",
    "# Se crea un dataframe con las columnas seleccionadas\n",
    "data_selected_train = data_train[selected_columns]\n",
    "\n",
    "# Crear una nueva columna llamadaplayer_id_win\n",
    "data_selected_train['player_id_win'] = data_selected_train['winner_id']\n",
    "\n",
    "\n",
    "data_selected_train = data_selected_train.rename(columns={\n",
    "    'winner_id': 'player1_id',\n",
    "    'winner_entry': 'player1_entry',\n",
    "    'winner_hand': 'player1_hand',\n",
    "    'winner_ht': 'player1_ht',\n",
    "    'winner_age': 'player1_age',\n",
    "    'winner_rank_points': 'player1_rank_points',\n",
    "    'loser_id': 'player2_id',\n",
    "    'loser_entry': 'player2_entry',\n",
    "    'loser_hand': 'player2_hand',\n",
    "    'loser_ht': 'player2_ht',\n",
    "    'loser_age': 'player2_age',\n",
    "    'loser_rank_points': 'player2_rank_points'\n",
    "})\n",
    "# Mapeo para 'surface'\n",
    "surface_mapping = {'Clay': 0, 'Grass': 1, 'Hard': 2, 'Carpet': 3} \n",
    "data_selected_train['surface_encoded'] = data_selected_train['surface'].map(surface_mapping)\n",
    "\n",
    "# Mapeo para 'winner_hand'\n",
    "hand_mapping = {'R': 0, 'L': 1, 'U': 2}  # Puedes ajustar esto según tus datos\n",
    "data_selected_train['player1_hand_encoded'] = data_selected_train['player1_hand'].map(hand_mapping)\n",
    "data_selected_train['player2_hand_encoded'] = data_selected_train['player2_hand'].map(hand_mapping)\n",
    "data_selected_train = data_selected_train.drop(['surface', 'player1_hand','player2_hand'], axis=1)\n",
    "\n",
    "# Reemplazar el guion '-' con una cadena vacía ''\n",
    "data_selected_train['tourney_id'] = data_selected_train['tourney_id'].str.replace('-', '')\n",
    "\n",
    "\n",
    "tourney_level_mapping = {'G': 0, 'M': 1, 'A': 2, 'C': 3, 'S': 4, 'F': 5, 'D': 6}  # Puedes ajustar esto según tus datos\n",
    "data_selected_train['tourney_level_encoded'] = data_selected_train['tourney_level'].map(tourney_level_mapping)\n",
    "\n",
    "# Eliminar la columna original 'tourney_level'\n",
    "data_selected_train = data_selected_train.drop(['tourney_level'], axis=1)\n",
    "\n",
    "winner_entry_mapping = {'WC': 1, 'Q': 2, 'LL': 3, 'PR': 4} \n",
    "data_selected_train['player1_entry_encoded'] = data_selected_train['player1_entry'].map(winner_entry_mapping)\n",
    "data_selected_train['player2_entry_encoded'] = data_selected_train['player2_entry'].map(winner_entry_mapping)\n",
    "\n",
    "# Eliminar la columna original 'player1_entry' y 'player2_entry'\n",
    "data_selected_train = data_selected_train.drop(['player1_entry', 'player2_entry'], axis=1)\n",
    "# Reemplazar NaN con 0 en 'player1_entry_encoded' y 'player2_entry_encoded'\n",
    "data_selected_train['player1_entry_encoded'].fillna(0, inplace=True)\n",
    "data_selected_train['player2_entry_encoded'].fillna(0, inplace=True)\n",
    "\n",
    "# Eliminar la columna 'tourney_id'\n",
    "data_selected_train = data_selected_train.drop(['tourney_id'], axis=1)\n",
    "data_selected_train = data_selected_train.dropna()\n",
    "\n",
    "\n",
    "\n",
    "\n",
    "# Visualizar las primeras filas del DataFrame actualizado\n",
    "#print(data_selected.head())\n",
    "\n",
    "# Visualizar las primeras filas del DataFrame actualizado\n",
    "print(data_selected_train.columns)"
   ]
  },
  {
   "cell_type": "code",
   "execution_count": 5,
   "metadata": {},
   "outputs": [
    {
     "name": "stdout",
     "output_type": "stream",
     "text": [
      "Index(['player1_id', 'player1_ht', 'player1_age', 'player2_id', 'player2_ht',\n",
      "       'player2_age', 'player1_rank_points', 'player2_rank_points',\n",
      "       'player_id_win', 'surface_encoded', 'player1_hand_encoded',\n",
      "       'player2_hand_encoded', 'tourney_level_encoded',\n",
      "       'player1_entry_encoded', 'player2_entry_encoded'],\n",
      "      dtype='object')\n"
     ]
    },
    {
     "name": "stderr",
     "output_type": "stream",
     "text": [
      "/tmp/ipykernel_23900/294209450.py:5: SettingWithCopyWarning: \n",
      "A value is trying to be set on a copy of a slice from a DataFrame.\n",
      "Try using .loc[row_indexer,col_indexer] = value instead\n",
      "\n",
      "See the caveats in the documentation: https://pandas.pydata.org/pandas-docs/stable/user_guide/indexing.html#returning-a-view-versus-a-copy\n",
      "  data_selected_test['player_id_win'] = data_selected_test['winner_id']\n"
     ]
    }
   ],
   "source": [
    "# Se crea un dataframe con las columnas seleccionadas\n",
    "data_selected_test = data_test[selected_columns]\n",
    "\n",
    "# Crear una nueva columna llamada player_id_win\n",
    "data_selected_test['player_id_win'] = data_selected_test['winner_id']\n",
    "\n",
    "data_selected_test = data_selected_test.rename(columns={\n",
    "    'winner_id': 'player1_id',\n",
    "    'winner_entry': 'player1_entry',\n",
    "    'winner_hand': 'player1_hand',\n",
    "    'winner_ht': 'player1_ht',\n",
    "    'winner_age': 'player1_age',\n",
    "    'winner_rank_points': 'player1_rank_points',\n",
    "    'loser_id': 'player2_id',\n",
    "    'loser_entry': 'player2_entry',\n",
    "    'loser_hand': 'player2_hand',\n",
    "    'loser_ht': 'player2_ht',\n",
    "    'loser_age': 'player2_age',\n",
    "    'loser_rank_points': 'player2_rank_points'\n",
    "})\n",
    "# Mapeo para 'surface'\n",
    "surface_mapping = {'Clay': 0, 'Grass': 1, 'Hard': 2, 'Carpet': 3} \n",
    "data_selected_test['surface_encoded'] = data_selected_test['surface'].map(surface_mapping)\n",
    "\n",
    "# Mapeo para 'winner_hand'\n",
    "hand_mapping = {'R': 0, 'L': 1, 'U': 2}  # Puedes ajustar esto según tus datos\n",
    "data_selected_test['player1_hand_encoded'] = data_selected_test['player1_hand'].map(hand_mapping)\n",
    "data_selected_test['player2_hand_encoded'] = data_selected_test['player2_hand'].map(hand_mapping)\n",
    "data_selected_test = data_selected_test.drop(['surface', 'player1_hand','player2_hand'], axis=1)\n",
    "\n",
    "# Reemplazar el guion '-' con una cadena vacía ''\n",
    "data_selected_test['tourney_id'] = data_selected_test['tourney_id'].str.replace('-', '')\n",
    "\n",
    "tourney_level_mapping = {'G': 0, 'M': 1, 'A': 2, 'C': 3, 'S': 4, 'F': 5, 'D': 6}  # Puedes ajustar esto según tus datos\n",
    "data_selected_test['tourney_level_encoded'] = data_selected_test['tourney_level'].map(tourney_level_mapping)\n",
    "\n",
    "# Eliminar la columna original 'tourney_level'\n",
    "data_selected_test = data_selected_test.drop(['tourney_level'], axis=1)\n",
    "\n",
    "winner_entry_mapping = {'WC': 1, 'Q': 2, 'LL': 3, 'PR': 4} \n",
    "data_selected_test['player1_entry_encoded'] = data_selected_test['player1_entry'].map(winner_entry_mapping)\n",
    "data_selected_test['player2_entry_encoded'] = data_selected_test['player2_entry'].map(winner_entry_mapping)\n",
    "\n",
    "# Eliminar la columna original 'player1_entry' y 'player2_entry'\n",
    "data_selected_test = data_selected_test.drop(['player1_entry', 'player2_entry'], axis=1)\n",
    "# Reemplazar NaN con 0 en 'player1_entry_encoded' y 'player2_entry_encoded'\n",
    "data_selected_test['player1_entry_encoded'].fillna(0, inplace=True)\n",
    "data_selected_test['player2_entry_encoded'].fillna(0, inplace=True)\n",
    "\n",
    "# Eliminar la columna 'tourney_id'\n",
    "data_selected_test = data_selected_test.drop(['tourney_id'], axis=1)\n",
    "data_selected_test = data_selected_test.dropna()\n",
    "\n",
    "# Visualizar las primeras filas del DataFrame actualizado\n",
    "print(data_selected_test.columns)\n"
   ]
  },
  {
   "cell_type": "code",
   "execution_count": 6,
   "metadata": {},
   "outputs": [],
   "source": [
    "y_train = data_selected_train['player_id_win']\n",
    "x_train = data_selected_train.drop(['player_id_win'], axis=1)\n",
    "\n",
    "y_test= data_selected_test['player_id_win']\n",
    "x_test = data_selected_test.drop(['player_id_win'], axis=1)"
   ]
  },
  {
   "cell_type": "markdown",
   "metadata": {},
   "source": [
    "Trabajo con datos set2 para redes sequenciales"
   ]
  },
  {
   "cell_type": "markdown",
   "metadata": {},
   "source": [
    "En el set de datos siempre gana el player uno, por lo que se podria esperar que la red aprenda este patron, se haran redes de clasificacion binaria, siendo 1 para cuando gana el player 1 y o para cunado gana el player 2 , acontinuacion se presenta el cambio de un porsentaje del set donde se dan vuelta los player"
   ]
  },
  {
   "cell_type": "code",
   "execution_count": 7,
   "metadata": {},
   "outputs": [],
   "source": [
    "# Crear una copia exacta del DataFrame data_selected y llamarla dataset2\n",
    "dataset2_train = data_selected_train.copy()\n",
    "# Este dataset cumpple la funcion de entrenar un modelo binario de capas densas donde se usa 1 para indicar que gana el player 1 y 0 para indicar que gana el player 2\n",
    "dataset2_train['win'] = 1\n",
    "\n",
    "\n",
    "dataset2_test = data_selected_test.copy()\n",
    "dataset2_test['win'] = 1"
   ]
  },
  {
   "cell_type": "code",
   "execution_count": 8,
   "metadata": {},
   "outputs": [],
   "source": [
    "#EN EL SET DE DATOS SIEMPRE GANA EL PLAYER UNO \n",
    "\n",
    "# Establecer una semilla para reproducibilidad\n",
    "np.random.seed(42)\n",
    "tamano_subset = int(0.55 * len(dataset2_train))\n",
    "\n",
    "# Seleccionar al azar un subconjunto de filas para intercambiar las instancias\n",
    "indices_a_cambiar = np.random.choice(dataset2_train.index, size=tamano_subset, replace=False)  # ajusta el tamaño según sea necesario\n",
    "\n",
    "# Copiar las características y etiquetas de Player 1 en dataset2\n",
    "features_player1 = dataset2_train.loc[indices_a_cambiar, [\n",
    "    'player1_id', 'player1_ht', 'player1_age', 'player1_rank_points',\n",
    "    'player1_hand_encoded', 'player1_entry_encoded'\n",
    "]]\n",
    "labels_player1 = 1 - dataset2_train.loc[indices_a_cambiar, 'win']  # Invertir las etiquetas para representar victorias de Player 2\n",
    "\n",
    "# Copiar las características y etiquetas de Player 2 en dataset2\n",
    "features_player2 = dataset2_train.loc[indices_a_cambiar, [\n",
    "    'player2_id', 'player2_ht', 'player2_age', 'player2_rank_points',\n",
    "    'player2_hand_encoded', 'player2_entry_encoded'\n",
    "]]\n",
    "labels_player2 = dataset2_train.loc[indices_a_cambiar, 'win']\n",
    "\n",
    "# Actualizar las instancias de Player 1 en dataset2 con las de Player 2\n",
    "dataset2_train.loc[indices_a_cambiar, [\n",
    "    'player1_id', 'player1_ht', 'player1_age', 'player1_rank_points',\n",
    "    'player1_hand_encoded', 'player1_entry_encoded'\n",
    "]] = features_player2.values\n",
    "dataset2_train.loc[indices_a_cambiar, 'win'] = labels_player2.values  # Invertir las etiquetas en 'win'\n",
    "\n",
    "# Actualizar las instancias de Player 2 en dataset2 con las de Player 1\n",
    "dataset2_train.loc[indices_a_cambiar, [\n",
    "    'player2_id', 'player2_ht', 'player2_age', 'player2_rank_points',\n",
    "    'player2_hand_encoded', 'player2_entry_encoded'\n",
    "]] = features_player1.values\n",
    "dataset2_train.loc[indices_a_cambiar, 'win'] = labels_player1.values\n",
    "\n",
    "# Verificar los primeros registros del DataFrame actualizado (dataset2)\n",
    "#print(dataset2.head())\n"
   ]
  },
  {
   "cell_type": "markdown",
   "metadata": {},
   "source": [
    "Se hace el mismo trabajo para el dataset de test"
   ]
  },
  {
   "cell_type": "code",
   "execution_count": 9,
   "metadata": {},
   "outputs": [],
   "source": [
    "# Establecer una semilla para reproducibilidad\n",
    "np.random.seed(42)\n",
    "tamano_subset = int(0.55 * len(dataset2_test))\n",
    "\n",
    "# Seleccionar al azar un subconjunto de filas para intercambiar las instancias\n",
    "indices_a_cambiar = np.random.choice(dataset2_test.index, size=tamano_subset, replace=False)  # ajusta el tamaño según sea necesario\n",
    "\n",
    "# Copiar las características y etiquetas de Player 1 en dataset2\n",
    "features_player1 = dataset2_test.loc[indices_a_cambiar, [\n",
    "    'player1_id', 'player1_ht', 'player1_age', 'player1_rank_points',\n",
    "    'player1_hand_encoded', 'player1_entry_encoded'\n",
    "]]\n",
    "labels_player1 = 1 - dataset2_test.loc[indices_a_cambiar, 'win']  # Invertir las etiquetas para representar victorias de Player 2\n",
    "\n",
    "# Copiar las características y etiquetas de Player 2 en dataset2\n",
    "features_player2 = dataset2_test.loc[indices_a_cambiar, [\n",
    "    'player2_id', 'player2_ht', 'player2_age', 'player2_rank_points',\n",
    "    'player2_hand_encoded', 'player2_entry_encoded'\n",
    "]]\n",
    "labels_player2 = dataset2_test.loc[indices_a_cambiar, 'win']\n",
    "\n",
    "# Actualizar las instancias de Player 1 en dataset2 con las de Player 2\n",
    "dataset2_test.loc[indices_a_cambiar, [\n",
    "    'player1_id', 'player1_ht', 'player1_age', 'player1_rank_points',\n",
    "    'player1_hand_encoded', 'player1_entry_encoded'\n",
    "]] = features_player2.values\n",
    "dataset2_test.loc[indices_a_cambiar, 'win'] = labels_player2.values  # Invertir las etiquetas en 'win'\n",
    "\n",
    "# Actualizar las instancias de Player 2 en dataset2 con las de Player 1\n",
    "dataset2_test.loc[indices_a_cambiar, [\n",
    "    'player2_id', 'player2_ht', 'player2_age', 'player2_rank_points',\n",
    "    'player2_hand_encoded', 'player2_entry_encoded'\n",
    "]] = features_player1.values\n",
    "dataset2_test.loc[indices_a_cambiar, 'win'] = labels_player1.values\n",
    "\n",
    "# Verificar los primeros registros del DataFrame actualizado (dataset2_test)\n",
    "#print(dataset2_test.head())\n"
   ]
  },
  {
   "cell_type": "code",
   "execution_count": 10,
   "metadata": {},
   "outputs": [
    {
     "name": "stdout",
     "output_type": "stream",
     "text": [
      "62327\n",
      "34279\n"
     ]
    }
   ],
   "source": [
    "#import tensorflow as tf\n",
    "print(len(dataset2_train))\n",
    "print(len(dataset2_train[dataset2_train['win'] == 0]))\n",
    "\n",
    "y_dataset2_train = dataset2_train['win']\n",
    "x_dataset2_train = dataset2_train.drop(['player_id_win','win'], axis=1)\n",
    "#y_dataset2_ht= tf.keras.utils.to_categorical(dataset2_train['win'])\n",
    "\n",
    "y_dataset2_test = dataset2_test['win']\n",
    "x_dataset2_test = dataset2_test.drop(['player_id_win','win'], axis=1)"
   ]
  },
  {
   "cell_type": "code",
   "execution_count": 11,
   "metadata": {},
   "outputs": [
    {
     "name": "stdout",
     "output_type": "stream",
     "text": [
      "2028\n",
      "1115\n"
     ]
    }
   ],
   "source": [
    "print(len(dataset2_test))\n",
    "print(len(dataset2_test[dataset2_test['win'] == 0]))"
   ]
  },
  {
   "cell_type": "markdown",
   "metadata": {},
   "source": [
    "Entrenamiento de un modelo RandomForest"
   ]
  },
  {
   "cell_type": "code",
   "execution_count": 29,
   "metadata": {},
   "outputs": [
    {
     "data": {
      "text/html": [
       "<style>#sk-container-id-2 {color: black;}#sk-container-id-2 pre{padding: 0;}#sk-container-id-2 div.sk-toggleable {background-color: white;}#sk-container-id-2 label.sk-toggleable__label {cursor: pointer;display: block;width: 100%;margin-bottom: 0;padding: 0.3em;box-sizing: border-box;text-align: center;}#sk-container-id-2 label.sk-toggleable__label-arrow:before {content: \"▸\";float: left;margin-right: 0.25em;color: #696969;}#sk-container-id-2 label.sk-toggleable__label-arrow:hover:before {color: black;}#sk-container-id-2 div.sk-estimator:hover label.sk-toggleable__label-arrow:before {color: black;}#sk-container-id-2 div.sk-toggleable__content {max-height: 0;max-width: 0;overflow: hidden;text-align: left;background-color: #f0f8ff;}#sk-container-id-2 div.sk-toggleable__content pre {margin: 0.2em;color: black;border-radius: 0.25em;background-color: #f0f8ff;}#sk-container-id-2 input.sk-toggleable__control:checked~div.sk-toggleable__content {max-height: 200px;max-width: 100%;overflow: auto;}#sk-container-id-2 input.sk-toggleable__control:checked~label.sk-toggleable__label-arrow:before {content: \"▾\";}#sk-container-id-2 div.sk-estimator input.sk-toggleable__control:checked~label.sk-toggleable__label {background-color: #d4ebff;}#sk-container-id-2 div.sk-label input.sk-toggleable__control:checked~label.sk-toggleable__label {background-color: #d4ebff;}#sk-container-id-2 input.sk-hidden--visually {border: 0;clip: rect(1px 1px 1px 1px);clip: rect(1px, 1px, 1px, 1px);height: 1px;margin: -1px;overflow: hidden;padding: 0;position: absolute;width: 1px;}#sk-container-id-2 div.sk-estimator {font-family: monospace;background-color: #f0f8ff;border: 1px dotted black;border-radius: 0.25em;box-sizing: border-box;margin-bottom: 0.5em;}#sk-container-id-2 div.sk-estimator:hover {background-color: #d4ebff;}#sk-container-id-2 div.sk-parallel-item::after {content: \"\";width: 100%;border-bottom: 1px solid gray;flex-grow: 1;}#sk-container-id-2 div.sk-label:hover label.sk-toggleable__label {background-color: #d4ebff;}#sk-container-id-2 div.sk-serial::before {content: \"\";position: absolute;border-left: 1px solid gray;box-sizing: border-box;top: 0;bottom: 0;left: 50%;z-index: 0;}#sk-container-id-2 div.sk-serial {display: flex;flex-direction: column;align-items: center;background-color: white;padding-right: 0.2em;padding-left: 0.2em;position: relative;}#sk-container-id-2 div.sk-item {position: relative;z-index: 1;}#sk-container-id-2 div.sk-parallel {display: flex;align-items: stretch;justify-content: center;background-color: white;position: relative;}#sk-container-id-2 div.sk-item::before, #sk-container-id-2 div.sk-parallel-item::before {content: \"\";position: absolute;border-left: 1px solid gray;box-sizing: border-box;top: 0;bottom: 0;left: 50%;z-index: -1;}#sk-container-id-2 div.sk-parallel-item {display: flex;flex-direction: column;z-index: 1;position: relative;background-color: white;}#sk-container-id-2 div.sk-parallel-item:first-child::after {align-self: flex-end;width: 50%;}#sk-container-id-2 div.sk-parallel-item:last-child::after {align-self: flex-start;width: 50%;}#sk-container-id-2 div.sk-parallel-item:only-child::after {width: 0;}#sk-container-id-2 div.sk-dashed-wrapped {border: 1px dashed gray;margin: 0 0.4em 0.5em 0.4em;box-sizing: border-box;padding-bottom: 0.4em;background-color: white;}#sk-container-id-2 div.sk-label label {font-family: monospace;font-weight: bold;display: inline-block;line-height: 1.2em;}#sk-container-id-2 div.sk-label-container {text-align: center;}#sk-container-id-2 div.sk-container {/* jupyter's `normalize.less` sets `[hidden] { display: none; }` but bootstrap.min.css set `[hidden] { display: none !important; }` so we also need the `!important` here to be able to override the default hidden behavior on the sphinx rendered scikit-learn.org. See: https://github.com/scikit-learn/scikit-learn/issues/21755 */display: inline-block !important;position: relative;}#sk-container-id-2 div.sk-text-repr-fallback {display: none;}</style><div id=\"sk-container-id-2\" class=\"sk-top-container\"><div class=\"sk-text-repr-fallback\"><pre>RandomForestClassifier(max_depth=15, random_state=42)</pre><b>In a Jupyter environment, please rerun this cell to show the HTML representation or trust the notebook. <br />On GitHub, the HTML representation is unable to render, please try loading this page with nbviewer.org.</b></div><div class=\"sk-container\" hidden><div class=\"sk-item\"><div class=\"sk-estimator sk-toggleable\"><input class=\"sk-toggleable__control sk-hidden--visually\" id=\"sk-estimator-id-2\" type=\"checkbox\" checked><label for=\"sk-estimator-id-2\" class=\"sk-toggleable__label sk-toggleable__label-arrow\">RandomForestClassifier</label><div class=\"sk-toggleable__content\"><pre>RandomForestClassifier(max_depth=15, random_state=42)</pre></div></div></div></div></div>"
      ],
      "text/plain": [
       "RandomForestClassifier(max_depth=15, random_state=42)"
      ]
     },
     "execution_count": 29,
     "metadata": {},
     "output_type": "execute_result"
    }
   ],
   "source": [
    "from sklearn.ensemble import RandomForestClassifier\n",
    "model = RandomForestClassifier(n_estimators=100, max_depth=15, random_state=42)\n",
    "model.fit(x_train, y_train)"
   ]
  },
  {
   "cell_type": "code",
   "execution_count": 30,
   "metadata": {},
   "outputs": [
    {
     "data": {
      "text/plain": [
       "0.2702169625246548"
      ]
     },
     "execution_count": 30,
     "metadata": {},
     "output_type": "execute_result"
    }
   ],
   "source": [
    "model.score(x_test,y_test)"
   ]
  },
  {
   "cell_type": "code",
   "execution_count": 12,
   "metadata": {},
   "outputs": [
    {
     "data": {
      "text/html": [
       "<style>#sk-container-id-1 {color: black;}#sk-container-id-1 pre{padding: 0;}#sk-container-id-1 div.sk-toggleable {background-color: white;}#sk-container-id-1 label.sk-toggleable__label {cursor: pointer;display: block;width: 100%;margin-bottom: 0;padding: 0.3em;box-sizing: border-box;text-align: center;}#sk-container-id-1 label.sk-toggleable__label-arrow:before {content: \"▸\";float: left;margin-right: 0.25em;color: #696969;}#sk-container-id-1 label.sk-toggleable__label-arrow:hover:before {color: black;}#sk-container-id-1 div.sk-estimator:hover label.sk-toggleable__label-arrow:before {color: black;}#sk-container-id-1 div.sk-toggleable__content {max-height: 0;max-width: 0;overflow: hidden;text-align: left;background-color: #f0f8ff;}#sk-container-id-1 div.sk-toggleable__content pre {margin: 0.2em;color: black;border-radius: 0.25em;background-color: #f0f8ff;}#sk-container-id-1 input.sk-toggleable__control:checked~div.sk-toggleable__content {max-height: 200px;max-width: 100%;overflow: auto;}#sk-container-id-1 input.sk-toggleable__control:checked~label.sk-toggleable__label-arrow:before {content: \"▾\";}#sk-container-id-1 div.sk-estimator input.sk-toggleable__control:checked~label.sk-toggleable__label {background-color: #d4ebff;}#sk-container-id-1 div.sk-label input.sk-toggleable__control:checked~label.sk-toggleable__label {background-color: #d4ebff;}#sk-container-id-1 input.sk-hidden--visually {border: 0;clip: rect(1px 1px 1px 1px);clip: rect(1px, 1px, 1px, 1px);height: 1px;margin: -1px;overflow: hidden;padding: 0;position: absolute;width: 1px;}#sk-container-id-1 div.sk-estimator {font-family: monospace;background-color: #f0f8ff;border: 1px dotted black;border-radius: 0.25em;box-sizing: border-box;margin-bottom: 0.5em;}#sk-container-id-1 div.sk-estimator:hover {background-color: #d4ebff;}#sk-container-id-1 div.sk-parallel-item::after {content: \"\";width: 100%;border-bottom: 1px solid gray;flex-grow: 1;}#sk-container-id-1 div.sk-label:hover label.sk-toggleable__label {background-color: #d4ebff;}#sk-container-id-1 div.sk-serial::before {content: \"\";position: absolute;border-left: 1px solid gray;box-sizing: border-box;top: 0;bottom: 0;left: 50%;z-index: 0;}#sk-container-id-1 div.sk-serial {display: flex;flex-direction: column;align-items: center;background-color: white;padding-right: 0.2em;padding-left: 0.2em;position: relative;}#sk-container-id-1 div.sk-item {position: relative;z-index: 1;}#sk-container-id-1 div.sk-parallel {display: flex;align-items: stretch;justify-content: center;background-color: white;position: relative;}#sk-container-id-1 div.sk-item::before, #sk-container-id-1 div.sk-parallel-item::before {content: \"\";position: absolute;border-left: 1px solid gray;box-sizing: border-box;top: 0;bottom: 0;left: 50%;z-index: -1;}#sk-container-id-1 div.sk-parallel-item {display: flex;flex-direction: column;z-index: 1;position: relative;background-color: white;}#sk-container-id-1 div.sk-parallel-item:first-child::after {align-self: flex-end;width: 50%;}#sk-container-id-1 div.sk-parallel-item:last-child::after {align-self: flex-start;width: 50%;}#sk-container-id-1 div.sk-parallel-item:only-child::after {width: 0;}#sk-container-id-1 div.sk-dashed-wrapped {border: 1px dashed gray;margin: 0 0.4em 0.5em 0.4em;box-sizing: border-box;padding-bottom: 0.4em;background-color: white;}#sk-container-id-1 div.sk-label label {font-family: monospace;font-weight: bold;display: inline-block;line-height: 1.2em;}#sk-container-id-1 div.sk-label-container {text-align: center;}#sk-container-id-1 div.sk-container {/* jupyter's `normalize.less` sets `[hidden] { display: none; }` but bootstrap.min.css set `[hidden] { display: none !important; }` so we also need the `!important` here to be able to override the default hidden behavior on the sphinx rendered scikit-learn.org. See: https://github.com/scikit-learn/scikit-learn/issues/21755 */display: inline-block !important;position: relative;}#sk-container-id-1 div.sk-text-repr-fallback {display: none;}</style><div id=\"sk-container-id-1\" class=\"sk-top-container\"><div class=\"sk-text-repr-fallback\"><pre>RandomForestClassifier(max_depth=20, n_estimators=200, random_state=42)</pre><b>In a Jupyter environment, please rerun this cell to show the HTML representation or trust the notebook. <br />On GitHub, the HTML representation is unable to render, please try loading this page with nbviewer.org.</b></div><div class=\"sk-container\" hidden><div class=\"sk-item\"><div class=\"sk-estimator sk-toggleable\"><input class=\"sk-toggleable__control sk-hidden--visually\" id=\"sk-estimator-id-1\" type=\"checkbox\" checked><label for=\"sk-estimator-id-1\" class=\"sk-toggleable__label sk-toggleable__label-arrow\">RandomForestClassifier</label><div class=\"sk-toggleable__content\"><pre>RandomForestClassifier(max_depth=20, n_estimators=200, random_state=42)</pre></div></div></div></div></div>"
      ],
      "text/plain": [
       "RandomForestClassifier(max_depth=20, n_estimators=200, random_state=42)"
      ]
     },
     "execution_count": 12,
     "metadata": {},
     "output_type": "execute_result"
    }
   ],
   "source": [
    "from sklearn.ensemble import RandomForestClassifier\n",
    "model5 = RandomForestClassifier(n_estimators=200, max_depth=20, random_state=42)\n",
    "model5.fit(x_dataset2_train, y_dataset2_train)"
   ]
  },
  {
   "cell_type": "code",
   "execution_count": 13,
   "metadata": {},
   "outputs": [
    {
     "data": {
      "text/plain": [
       "0.653353057199211"
      ]
     },
     "execution_count": 13,
     "metadata": {},
     "output_type": "execute_result"
    }
   ],
   "source": [
    "model5.score(x_dataset2_test,y_dataset2_test)"
   ]
  },
  {
   "cell_type": "code",
   "execution_count": 14,
   "metadata": {},
   "outputs": [
    {
     "data": {
      "text/plain": [
       "['models/random_forest_model5.plk']"
      ]
     },
     "execution_count": 14,
     "metadata": {},
     "output_type": "execute_result"
    }
   ],
   "source": [
    "import joblib\n",
    "joblib.dump(model5, 'models/random_forest_model5.plk', compress=3)"
   ]
  },
  {
   "cell_type": "markdown",
   "metadata": {},
   "source": [
    "Entrenamiento de un modelo secuencial con capas densas y modo de activacion relu"
   ]
  },
  {
   "cell_type": "code",
   "execution_count": 34,
   "metadata": {},
   "outputs": [
    {
     "name": "stderr",
     "output_type": "stream",
     "text": [
      "2023-12-31 01:21:20.016624: I external/local_tsl/tsl/cuda/cudart_stub.cc:31] Could not find cuda drivers on your machine, GPU will not be used.\n",
      "2023-12-31 01:21:20.153704: E external/local_xla/xla/stream_executor/cuda/cuda_dnn.cc:9261] Unable to register cuDNN factory: Attempting to register factory for plugin cuDNN when one has already been registered\n",
      "2023-12-31 01:21:20.153748: E external/local_xla/xla/stream_executor/cuda/cuda_fft.cc:607] Unable to register cuFFT factory: Attempting to register factory for plugin cuFFT when one has already been registered\n",
      "2023-12-31 01:21:20.178610: E external/local_xla/xla/stream_executor/cuda/cuda_blas.cc:1515] Unable to register cuBLAS factory: Attempting to register factory for plugin cuBLAS when one has already been registered\n",
      "2023-12-31 01:21:20.230413: I external/local_tsl/tsl/cuda/cudart_stub.cc:31] Could not find cuda drivers on your machine, GPU will not be used.\n",
      "2023-12-31 01:21:20.231089: I tensorflow/core/platform/cpu_feature_guard.cc:182] This TensorFlow binary is optimized to use available CPU instructions in performance-critical operations.\n",
      "To enable the following instructions: AVX2 FMA, in other operations, rebuild TensorFlow with the appropriate compiler flags.\n",
      "2023-12-31 01:21:21.003402: W tensorflow/compiler/tf2tensorrt/utils/py_utils.cc:38] TF-TRT Warning: Could not find TensorRT\n"
     ]
    },
    {
     "name": "stdout",
     "output_type": "stream",
     "text": [
      "14\n"
     ]
    },
    {
     "name": "stderr",
     "output_type": "stream",
     "text": [
      "2023-12-31 01:21:23.573576: I external/local_xla/xla/stream_executor/cuda/cuda_executor.cc:901] successful NUMA node read from SysFS had negative value (-1), but there must be at least one NUMA node, so returning NUMA node zero. See more at https://github.com/torvalds/linux/blob/v6.0/Documentation/ABI/testing/sysfs-bus-pci#L344-L355\n",
      "2023-12-31 01:21:23.574135: W tensorflow/core/common_runtime/gpu/gpu_device.cc:2256] Cannot dlopen some GPU libraries. Please make sure the missing libraries mentioned above are installed properly if you would like to use GPU. Follow the guide at https://www.tensorflow.org/install/gpu for how to download and setup the required libraries for your platform.\n",
      "Skipping registering GPU devices...\n"
     ]
    }
   ],
   "source": [
    "from tensorflow.keras.models import Sequential\n",
    "from tensorflow.keras.layers import Dense, Dropout\n",
    "from tensorflow.keras.optimizers import SGD\n",
    "\n",
    "\n",
    "\n",
    "YOUR_INPUT_DIM=len(x_dataset2_test.columns)\n",
    "print(YOUR_INPUT_DIM)\n",
    "model1 = Sequential()\n",
    "model1.add(Dense(30, activation=\"relu\", input_dim=YOUR_INPUT_DIM))\n",
    "model1.add(Dropout(0.1))\n",
    "model1.add(Dense(50, activation=\"relu\"))\n",
    "model1.add(Dropout(0.1))\n",
    "model1.add(Dense(20, activation=\"relu\"))\n",
    "model1.add(Dense(units=1, activation='sigmoid'))  \n",
    "model1.compile(optimizer='Adam', loss='binary_crossentropy', metrics=['accuracy'])"
   ]
  },
  {
   "cell_type": "code",
   "execution_count": 35,
   "metadata": {},
   "outputs": [
    {
     "name": "stdout",
     "output_type": "stream",
     "text": [
      "Epoch 1/20\n",
      "974/974 [==============================] - 2s 1ms/step - loss: 176.4188 - accuracy: 0.5116 - val_loss: 26.7263 - val_accuracy: 0.4896\n",
      "Epoch 2/20\n",
      "974/974 [==============================] - 1s 1ms/step - loss: 11.8570 - accuracy: 0.5134 - val_loss: 4.9014 - val_accuracy: 0.5493\n",
      "Epoch 3/20\n",
      "974/974 [==============================] - 1s 1ms/step - loss: 4.9630 - accuracy: 0.5235 - val_loss: 7.8822 - val_accuracy: 0.5597\n",
      "Epoch 4/20\n",
      "974/974 [==============================] - 1s 1ms/step - loss: 2.7148 - accuracy: 0.5326 - val_loss: 2.2622 - val_accuracy: 0.4630\n",
      "Epoch 5/20\n",
      "974/974 [==============================] - 1s 1ms/step - loss: 1.8481 - accuracy: 0.5405 - val_loss: 3.3663 - val_accuracy: 0.5680\n",
      "Epoch 6/20\n",
      "974/974 [==============================] - 1s 1ms/step - loss: 1.3000 - accuracy: 0.5537 - val_loss: 1.0221 - val_accuracy: 0.4926\n",
      "Epoch 7/20\n",
      "974/974 [==============================] - 1s 1ms/step - loss: 0.9411 - accuracy: 0.5526 - val_loss: 0.8649 - val_accuracy: 0.4601\n",
      "Epoch 8/20\n",
      "974/974 [==============================] - 1s 1ms/step - loss: 0.7685 - accuracy: 0.5393 - val_loss: 0.7203 - val_accuracy: 0.5444\n",
      "Epoch 9/20\n",
      "974/974 [==============================] - 1s 1ms/step - loss: 0.6837 - accuracy: 0.5820 - val_loss: 0.6851 - val_accuracy: 0.5685\n",
      "Epoch 10/20\n",
      "974/974 [==============================] - 1s 1ms/step - loss: 0.6677 - accuracy: 0.5967 - val_loss: 0.6703 - val_accuracy: 0.6223\n",
      "Epoch 11/20\n",
      "974/974 [==============================] - 1s 1ms/step - loss: 0.6608 - accuracy: 0.6133 - val_loss: 0.6833 - val_accuracy: 0.5680\n",
      "Epoch 12/20\n",
      "974/974 [==============================] - 1s 1ms/step - loss: 0.6626 - accuracy: 0.6117 - val_loss: 0.6610 - val_accuracy: 0.6346\n",
      "Epoch 13/20\n",
      "974/974 [==============================] - 1s 1ms/step - loss: 0.6664 - accuracy: 0.6043 - val_loss: 0.6505 - val_accuracy: 0.6405\n",
      "Epoch 14/20\n",
      "974/974 [==============================] - 1s 1ms/step - loss: 0.6753 - accuracy: 0.5911 - val_loss: 0.6767 - val_accuracy: 0.5809\n",
      "Epoch 15/20\n",
      "974/974 [==============================] - 1s 1ms/step - loss: 0.6718 - accuracy: 0.5955 - val_loss: 0.6873 - val_accuracy: 0.6105\n",
      "Epoch 16/20\n",
      "974/974 [==============================] - 1s 1ms/step - loss: 0.6671 - accuracy: 0.6006 - val_loss: 0.6878 - val_accuracy: 0.5251\n",
      "Epoch 17/20\n",
      "974/974 [==============================] - 1s 1ms/step - loss: 0.6575 - accuracy: 0.6142 - val_loss: 0.6520 - val_accuracy: 0.6287\n",
      "Epoch 18/20\n",
      "974/974 [==============================] - 1s 1ms/step - loss: 0.6540 - accuracy: 0.6229 - val_loss: 0.6875 - val_accuracy: 0.5607\n",
      "Epoch 19/20\n",
      "974/974 [==============================] - 1s 1ms/step - loss: 0.6561 - accuracy: 0.6178 - val_loss: 0.6607 - val_accuracy: 0.6174\n",
      "Epoch 20/20\n",
      "974/974 [==============================] - 1s 1ms/step - loss: 0.6567 - accuracy: 0.6174 - val_loss: 0.6536 - val_accuracy: 0.6169\n"
     ]
    },
    {
     "data": {
      "text/plain": [
       "<keras.src.callbacks.History at 0x7f3d68e349d0>"
      ]
     },
     "execution_count": 35,
     "metadata": {},
     "output_type": "execute_result"
    }
   ],
   "source": [
    "model1.fit(x_dataset2_train, y_dataset2_train, epochs=20, batch_size=64, validation_data=(x_dataset2_test,y_dataset2_test))"
   ]
  },
  {
   "cell_type": "code",
   "execution_count": 36,
   "metadata": {},
   "outputs": [],
   "source": [
    "#model1.save('models/keras_model1_relu62.h5')"
   ]
  },
  {
   "cell_type": "code",
   "execution_count": 37,
   "metadata": {},
   "outputs": [
    {
     "name": "stdout",
     "output_type": "stream",
     "text": [
      "64/64 [==============================] - 0s 780us/step - loss: 0.6536 - accuracy: 0.6169\n",
      "Loss: 0.6535884141921997\n",
      "Accuracy: 0.6168639063835144\n"
     ]
    }
   ],
   "source": [
    "results=model1.evaluate(x_dataset2_test,y_dataset2_test)\n",
    "print(\"Loss:\", results[0])\n",
    "print(\"Accuracy:\", results[1])"
   ]
  },
  {
   "cell_type": "markdown",
   "metadata": {},
   "source": [
    "Entrenamiento de un modelo secuencial de capas densas con activacion LeakyRELU "
   ]
  },
  {
   "cell_type": "code",
   "execution_count": 38,
   "metadata": {},
   "outputs": [],
   "source": [
    "from tensorflow.keras.layers import LeakyReLU\n",
    "YOUR_INPUT_DIM=len(x_dataset2_test.columns)\n",
    "model2 = Sequential()\n",
    "model2.add(Dense(70, activation=LeakyReLU(alpha=0.07), input_dim=YOUR_INPUT_DIM))\n",
    "model2.add(Dropout(0.1))\n",
    "model2.add(Dense(25, activation=LeakyReLU(alpha=0.07)))\n",
    "model2.add(Dropout(0.1))\n",
    "model2.add(Dense(30, activation=LeakyReLU(alpha=0.06)))\n",
    "model2.add(Dense(units=1, activation='sigmoid'))  \n",
    "model2.compile(optimizer='Adam', loss='binary_crossentropy', metrics=['accuracy'])"
   ]
  },
  {
   "cell_type": "code",
   "execution_count": 39,
   "metadata": {},
   "outputs": [
    {
     "name": "stdout",
     "output_type": "stream",
     "text": [
      "Epoch 1/50\n",
      "974/974 [==============================] - 2s 1ms/step - loss: 122.7393 - accuracy: 0.5111 - val_loss: 5.3548 - val_accuracy: 0.5498\n",
      "Epoch 2/50\n",
      "974/974 [==============================] - 1s 1ms/step - loss: 9.7912 - accuracy: 0.5103 - val_loss: 5.5699 - val_accuracy: 0.4502\n",
      "Epoch 3/50\n",
      "974/974 [==============================] - 1s 1ms/step - loss: 4.5815 - accuracy: 0.5126 - val_loss: 6.5475 - val_accuracy: 0.4502\n",
      "Epoch 4/50\n",
      "974/974 [==============================] - 1s 1ms/step - loss: 2.1845 - accuracy: 0.5197 - val_loss: 0.8203 - val_accuracy: 0.5528\n",
      "Epoch 5/50\n",
      "974/974 [==============================] - 1s 1ms/step - loss: 1.1964 - accuracy: 0.5357 - val_loss: 1.9116 - val_accuracy: 0.4541\n",
      "Epoch 6/50\n",
      "974/974 [==============================] - 1s 1ms/step - loss: 0.9329 - accuracy: 0.5530 - val_loss: 0.8140 - val_accuracy: 0.5542\n",
      "Epoch 7/50\n",
      "974/974 [==============================] - 1s 1ms/step - loss: 0.8262 - accuracy: 0.5573 - val_loss: 1.3915 - val_accuracy: 0.5528\n",
      "Epoch 8/50\n",
      "974/974 [==============================] - 1s 1ms/step - loss: 0.8090 - accuracy: 0.5630 - val_loss: 1.1785 - val_accuracy: 0.4970\n",
      "Epoch 9/50\n",
      "974/974 [==============================] - 1s 1ms/step - loss: 0.8111 - accuracy: 0.5605 - val_loss: 1.1149 - val_accuracy: 0.4744\n",
      "Epoch 10/50\n",
      "974/974 [==============================] - 1s 1ms/step - loss: 0.7791 - accuracy: 0.5697 - val_loss: 1.9925 - val_accuracy: 0.4798\n",
      "Epoch 11/50\n",
      "974/974 [==============================] - 1s 999us/step - loss: 0.8426 - accuracy: 0.5663 - val_loss: 1.8052 - val_accuracy: 0.5508\n",
      "Epoch 12/50\n",
      "974/974 [==============================] - 1s 999us/step - loss: 0.7536 - accuracy: 0.5750 - val_loss: 0.7558 - val_accuracy: 0.5991\n",
      "Epoch 13/50\n",
      "974/974 [==============================] - 1s 1ms/step - loss: 0.7319 - accuracy: 0.5885 - val_loss: 0.8436 - val_accuracy: 0.6105\n",
      "Epoch 14/50\n",
      "974/974 [==============================] - 1s 1ms/step - loss: 0.7211 - accuracy: 0.5889 - val_loss: 0.6831 - val_accuracy: 0.5907\n",
      "Epoch 15/50\n",
      "974/974 [==============================] - 1s 1ms/step - loss: 0.7304 - accuracy: 0.5925 - val_loss: 0.6776 - val_accuracy: 0.6060\n",
      "Epoch 16/50\n",
      "974/974 [==============================] - 1s 1ms/step - loss: 0.7143 - accuracy: 0.5953 - val_loss: 0.9579 - val_accuracy: 0.4724\n",
      "Epoch 17/50\n",
      "974/974 [==============================] - 1s 1ms/step - loss: 0.7264 - accuracy: 0.5890 - val_loss: 0.9172 - val_accuracy: 0.5084\n",
      "Epoch 18/50\n",
      "974/974 [==============================] - 1s 999us/step - loss: 0.6994 - accuracy: 0.6004 - val_loss: 0.8643 - val_accuracy: 0.5873\n",
      "Epoch 19/50\n",
      "974/974 [==============================] - 1s 1ms/step - loss: 0.6874 - accuracy: 0.5996 - val_loss: 0.6977 - val_accuracy: 0.5794\n",
      "Epoch 20/50\n",
      "974/974 [==============================] - 1s 999us/step - loss: 0.6845 - accuracy: 0.6018 - val_loss: 0.6916 - val_accuracy: 0.5937\n",
      "Epoch 21/50\n",
      "974/974 [==============================] - 1s 1ms/step - loss: 0.6837 - accuracy: 0.6020 - val_loss: 0.6923 - val_accuracy: 0.5962\n",
      "Epoch 22/50\n",
      "974/974 [==============================] - 1s 1ms/step - loss: 0.6750 - accuracy: 0.6122 - val_loss: 0.8694 - val_accuracy: 0.5858\n",
      "Epoch 23/50\n",
      "974/974 [==============================] - 1s 1ms/step - loss: 0.6962 - accuracy: 0.6038 - val_loss: 0.6846 - val_accuracy: 0.6139\n",
      "Epoch 24/50\n",
      "974/974 [==============================] - 1s 1ms/step - loss: 0.6613 - accuracy: 0.6156 - val_loss: 0.7413 - val_accuracy: 0.5429\n",
      "Epoch 25/50\n",
      "974/974 [==============================] - 1s 1ms/step - loss: 0.6670 - accuracy: 0.6129 - val_loss: 0.7008 - val_accuracy: 0.5932\n",
      "Epoch 26/50\n",
      "974/974 [==============================] - 1s 1ms/step - loss: 0.6616 - accuracy: 0.6150 - val_loss: 0.6473 - val_accuracy: 0.6391\n",
      "Epoch 27/50\n",
      "974/974 [==============================] - 1s 1ms/step - loss: 0.6511 - accuracy: 0.6189 - val_loss: 0.6491 - val_accuracy: 0.6243\n",
      "Epoch 28/50\n",
      "974/974 [==============================] - 1s 1ms/step - loss: 0.6549 - accuracy: 0.6211 - val_loss: 0.6732 - val_accuracy: 0.6164\n",
      "Epoch 29/50\n",
      "974/974 [==============================] - 1s 1ms/step - loss: 0.6460 - accuracy: 0.6245 - val_loss: 0.7671 - val_accuracy: 0.5962\n",
      "Epoch 30/50\n",
      "974/974 [==============================] - 1s 1ms/step - loss: 0.6565 - accuracy: 0.6168 - val_loss: 0.9228 - val_accuracy: 0.5631\n",
      "Epoch 31/50\n",
      "974/974 [==============================] - 1s 2ms/step - loss: 0.6507 - accuracy: 0.6201 - val_loss: 0.6356 - val_accuracy: 0.6331\n",
      "Epoch 32/50\n",
      "974/974 [==============================] - 1s 1ms/step - loss: 0.6474 - accuracy: 0.6251 - val_loss: 0.6695 - val_accuracy: 0.5937\n",
      "Epoch 33/50\n",
      "974/974 [==============================] - 1s 1ms/step - loss: 0.6499 - accuracy: 0.6254 - val_loss: 0.6632 - val_accuracy: 0.6312\n",
      "Epoch 34/50\n",
      "974/974 [==============================] - 1s 1ms/step - loss: 0.6527 - accuracy: 0.6212 - val_loss: 0.6632 - val_accuracy: 0.6183\n",
      "Epoch 35/50\n",
      "974/974 [==============================] - 1s 1ms/step - loss: 0.6514 - accuracy: 0.6257 - val_loss: 0.6333 - val_accuracy: 0.6420\n",
      "Epoch 36/50\n",
      "974/974 [==============================] - 1s 1ms/step - loss: 0.6662 - accuracy: 0.6180 - val_loss: 0.6492 - val_accuracy: 0.6287\n",
      "Epoch 37/50\n",
      "974/974 [==============================] - 1s 1ms/step - loss: 0.6406 - accuracy: 0.6280 - val_loss: 0.6357 - val_accuracy: 0.6386\n",
      "Epoch 38/50\n",
      "974/974 [==============================] - 1s 1ms/step - loss: 0.6337 - accuracy: 0.6348 - val_loss: 0.6449 - val_accuracy: 0.6410\n",
      "Epoch 39/50\n",
      "974/974 [==============================] - 1s 1ms/step - loss: 0.6374 - accuracy: 0.6351 - val_loss: 0.6451 - val_accuracy: 0.6386\n",
      "Epoch 40/50\n",
      "974/974 [==============================] - 1s 1ms/step - loss: 0.6839 - accuracy: 0.6203 - val_loss: 0.6350 - val_accuracy: 0.6381\n",
      "Epoch 41/50\n",
      "974/974 [==============================] - 1s 1ms/step - loss: 0.6468 - accuracy: 0.6203 - val_loss: 0.6422 - val_accuracy: 0.6297\n",
      "Epoch 42/50\n",
      "974/974 [==============================] - 1s 1ms/step - loss: 0.6432 - accuracy: 0.6235 - val_loss: 0.6584 - val_accuracy: 0.5922\n",
      "Epoch 43/50\n",
      "974/974 [==============================] - 1s 1ms/step - loss: 0.6486 - accuracy: 0.6263 - val_loss: 0.6550 - val_accuracy: 0.5996\n",
      "Epoch 44/50\n",
      "974/974 [==============================] - 1s 1ms/step - loss: 0.6401 - accuracy: 0.6308 - val_loss: 0.6350 - val_accuracy: 0.6336\n",
      "Epoch 45/50\n",
      "974/974 [==============================] - 1s 1ms/step - loss: 0.6316 - accuracy: 0.6391 - val_loss: 0.6413 - val_accuracy: 0.6267\n",
      "Epoch 46/50\n",
      "974/974 [==============================] - 1s 1ms/step - loss: 0.6504 - accuracy: 0.6293 - val_loss: 0.6540 - val_accuracy: 0.6243\n",
      "Epoch 47/50\n",
      "974/974 [==============================] - 1s 988us/step - loss: 0.6335 - accuracy: 0.6374 - val_loss: 0.6497 - val_accuracy: 0.6287\n",
      "Epoch 48/50\n",
      "974/974 [==============================] - 1s 1ms/step - loss: 0.6331 - accuracy: 0.6386 - val_loss: 0.6488 - val_accuracy: 0.6282\n",
      "Epoch 49/50\n",
      "974/974 [==============================] - 1s 1ms/step - loss: 0.6385 - accuracy: 0.6343 - val_loss: 0.6552 - val_accuracy: 0.6174\n",
      "Epoch 50/50\n",
      "974/974 [==============================] - 1s 1ms/step - loss: 0.6364 - accuracy: 0.6358 - val_loss: 0.6389 - val_accuracy: 0.6415\n"
     ]
    },
    {
     "data": {
      "text/plain": [
       "<keras.src.callbacks.History at 0x7f3d807ceb00>"
      ]
     },
     "execution_count": 39,
     "metadata": {},
     "output_type": "execute_result"
    }
   ],
   "source": [
    "model2.fit(x_dataset2_train, y_dataset2_train, epochs=50, batch_size=64, validation_data=(x_dataset2_test,y_dataset2_test))"
   ]
  },
  {
   "cell_type": "code",
   "execution_count": 40,
   "metadata": {},
   "outputs": [],
   "source": [
    "#model2.save('models/keras_model2_leaky63.h5')"
   ]
  },
  {
   "cell_type": "code",
   "execution_count": 41,
   "metadata": {},
   "outputs": [
    {
     "name": "stdout",
     "output_type": "stream",
     "text": [
      " 1/64 [..............................] - ETA: 1s - loss: 0.6590 - accuracy: 0.5625"
     ]
    },
    {
     "name": "stdout",
     "output_type": "stream",
     "text": [
      "64/64 [==============================] - 0s 891us/step - loss: 0.6389 - accuracy: 0.6415\n",
      "Loss: 0.6388996243476868\n",
      "Accuracy: 0.6415187120437622\n"
     ]
    }
   ],
   "source": [
    "results=model2.evaluate(x_dataset2_test,y_dataset2_test)\n",
    "print(\"Loss:\", results[0])\n",
    "print(\"Accuracy:\", results[1])"
   ]
  },
  {
   "cell_type": "markdown",
   "metadata": {},
   "source": [
    "entrenamiento de un tercer modelo secuancial con capas densas y activacion relu y LeakyReLu"
   ]
  },
  {
   "cell_type": "code",
   "execution_count": 42,
   "metadata": {},
   "outputs": [],
   "source": [
    "from tensorflow.keras.layers import LeakyReLU\n",
    "YOUR_INPUT_DIM=len(x_dataset2_test.columns)\n",
    "model3 = Sequential()\n",
    "model3.add(Dense(30, activation=\"relu\", input_dim=YOUR_INPUT_DIM))\n",
    "model3.add(Dropout(0.2))\n",
    "model3.add(Dense(70, activation=LeakyReLU(alpha=0.06)))\n",
    "model3.add(Dropout(0.2))\n",
    "model3.add(Dense(50, activation=LeakyReLU(alpha=0.06)))\n",
    "model3.add(Dropout(0.2))\n",
    "model3.add(Dense(25, activation=\"relu\"))\n",
    "model3.add(Dense(units=1, activation='sigmoid'))  \n",
    "model3.compile(optimizer='Adam', loss='binary_crossentropy', metrics=['accuracy'])"
   ]
  },
  {
   "cell_type": "code",
   "execution_count": 43,
   "metadata": {},
   "outputs": [
    {
     "name": "stdout",
     "output_type": "stream",
     "text": [
      "Epoch 1/55\n",
      "917/917 [==============================] - 2s 1ms/step - loss: 237.0270 - accuracy: 0.5075 - val_loss: 2.2595 - val_accuracy: 0.5498\n",
      "Epoch 2/55\n",
      "917/917 [==============================] - 1s 1ms/step - loss: 7.5880 - accuracy: 0.5049 - val_loss: 0.8911 - val_accuracy: 0.5498\n",
      "Epoch 3/55\n",
      "917/917 [==============================] - 1s 1ms/step - loss: 2.7784 - accuracy: 0.5056 - val_loss: 0.7550 - val_accuracy: 0.4502\n",
      "Epoch 4/55\n",
      "917/917 [==============================] - 1s 1ms/step - loss: 1.6943 - accuracy: 0.5098 - val_loss: 0.6911 - val_accuracy: 0.5247\n",
      "Epoch 5/55\n",
      "917/917 [==============================] - 1s 1ms/step - loss: 1.2294 - accuracy: 0.5071 - val_loss: 1.1600 - val_accuracy: 0.4502\n",
      "Epoch 6/55\n",
      "917/917 [==============================] - 1s 1ms/step - loss: 0.9789 - accuracy: 0.5074 - val_loss: 1.0283 - val_accuracy: 0.4502\n",
      "Epoch 7/55\n",
      "917/917 [==============================] - 1s 1ms/step - loss: 0.8678 - accuracy: 0.5122 - val_loss: 1.2266 - val_accuracy: 0.5498\n",
      "Epoch 8/55\n",
      "917/917 [==============================] - 1s 1ms/step - loss: 0.8112 - accuracy: 0.5139 - val_loss: 0.7593 - val_accuracy: 0.5498\n",
      "Epoch 9/55\n",
      "917/917 [==============================] - 1s 1ms/step - loss: 0.7769 - accuracy: 0.5194 - val_loss: 0.7194 - val_accuracy: 0.4522\n",
      "Epoch 10/55\n",
      "917/917 [==============================] - 1s 1ms/step - loss: 0.7399 - accuracy: 0.5250 - val_loss: 0.8584 - val_accuracy: 0.4502\n",
      "Epoch 11/55\n",
      "917/917 [==============================] - 1s 1ms/step - loss: 0.7272 - accuracy: 0.5343 - val_loss: 0.6855 - val_accuracy: 0.6011\n",
      "Epoch 12/55\n",
      "917/917 [==============================] - 1s 1ms/step - loss: 0.7076 - accuracy: 0.5456 - val_loss: 0.6875 - val_accuracy: 0.5656\n",
      "Epoch 13/55\n",
      "917/917 [==============================] - 1s 1ms/step - loss: 0.7021 - accuracy: 0.5487 - val_loss: 0.7018 - val_accuracy: 0.5483\n",
      "Epoch 14/55\n",
      "917/917 [==============================] - 1s 1ms/step - loss: 0.6828 - accuracy: 0.5677 - val_loss: 0.6812 - val_accuracy: 0.5774\n",
      "Epoch 15/55\n",
      "917/917 [==============================] - 1s 1ms/step - loss: 0.6740 - accuracy: 0.5898 - val_loss: 0.6833 - val_accuracy: 0.5833\n",
      "Epoch 16/55\n",
      "917/917 [==============================] - 1s 1ms/step - loss: 0.6569 - accuracy: 0.6129 - val_loss: 0.6720 - val_accuracy: 0.5769\n",
      "Epoch 17/55\n",
      "917/917 [==============================] - 1s 1ms/step - loss: 0.6531 - accuracy: 0.6194 - val_loss: 0.7264 - val_accuracy: 0.5907\n",
      "Epoch 18/55\n",
      "917/917 [==============================] - 1s 1ms/step - loss: 0.6539 - accuracy: 0.6118 - val_loss: 0.6586 - val_accuracy: 0.6036\n",
      "Epoch 19/55\n",
      "917/917 [==============================] - 1s 1ms/step - loss: 0.6474 - accuracy: 0.6235 - val_loss: 0.7251 - val_accuracy: 0.5809\n",
      "Epoch 20/55\n",
      "917/917 [==============================] - 1s 1ms/step - loss: 0.6490 - accuracy: 0.6207 - val_loss: 0.6766 - val_accuracy: 0.5897\n",
      "Epoch 21/55\n",
      "917/917 [==============================] - 1s 1ms/step - loss: 0.6453 - accuracy: 0.6229 - val_loss: 0.6598 - val_accuracy: 0.6109\n",
      "Epoch 22/55\n",
      "917/917 [==============================] - 1s 1ms/step - loss: 0.6440 - accuracy: 0.6230 - val_loss: 0.6582 - val_accuracy: 0.6075\n",
      "Epoch 23/55\n",
      "917/917 [==============================] - 1s 1ms/step - loss: 0.6447 - accuracy: 0.6233 - val_loss: 0.6497 - val_accuracy: 0.6243\n",
      "Epoch 24/55\n",
      "917/917 [==============================] - 1s 1ms/step - loss: 0.6448 - accuracy: 0.6240 - val_loss: 0.6511 - val_accuracy: 0.6208\n",
      "Epoch 25/55\n",
      "917/917 [==============================] - 1s 1ms/step - loss: 0.6407 - accuracy: 0.6259 - val_loss: 0.6527 - val_accuracy: 0.6203\n",
      "Epoch 26/55\n",
      "917/917 [==============================] - 1s 1ms/step - loss: 0.6367 - accuracy: 0.6268 - val_loss: 0.6450 - val_accuracy: 0.6248\n",
      "Epoch 27/55\n",
      "917/917 [==============================] - 1s 1ms/step - loss: 0.6368 - accuracy: 0.6274 - val_loss: 0.6490 - val_accuracy: 0.6154\n",
      "Epoch 28/55\n",
      "917/917 [==============================] - 1s 1ms/step - loss: 0.6351 - accuracy: 0.6302 - val_loss: 0.6463 - val_accuracy: 0.6361\n",
      "Epoch 29/55\n",
      "917/917 [==============================] - 1s 1ms/step - loss: 0.6341 - accuracy: 0.6340 - val_loss: 0.6441 - val_accuracy: 0.6326\n",
      "Epoch 30/55\n",
      "917/917 [==============================] - 1s 1ms/step - loss: 0.6352 - accuracy: 0.6330 - val_loss: 0.6343 - val_accuracy: 0.6410\n",
      "Epoch 31/55\n",
      "917/917 [==============================] - 1s 1ms/step - loss: 0.6314 - accuracy: 0.6360 - val_loss: 0.6356 - val_accuracy: 0.6469\n",
      "Epoch 32/55\n",
      "917/917 [==============================] - 1s 1ms/step - loss: 0.6319 - accuracy: 0.6356 - val_loss: 0.6330 - val_accuracy: 0.6460\n",
      "Epoch 33/55\n",
      "917/917 [==============================] - 1s 2ms/step - loss: 0.6335 - accuracy: 0.6332 - val_loss: 0.6355 - val_accuracy: 0.6435\n",
      "Epoch 34/55\n",
      "917/917 [==============================] - 1s 1ms/step - loss: 0.6323 - accuracy: 0.6346 - val_loss: 0.6326 - val_accuracy: 0.6440\n",
      "Epoch 35/55\n",
      "917/917 [==============================] - 1s 2ms/step - loss: 0.6356 - accuracy: 0.6250 - val_loss: 0.6376 - val_accuracy: 0.6257\n",
      "Epoch 36/55\n",
      "917/917 [==============================] - 1s 2ms/step - loss: 0.6333 - accuracy: 0.6303 - val_loss: 0.6424 - val_accuracy: 0.6336\n",
      "Epoch 37/55\n",
      "917/917 [==============================] - 1s 1ms/step - loss: 0.6329 - accuracy: 0.6316 - val_loss: 0.6352 - val_accuracy: 0.6405\n",
      "Epoch 38/55\n",
      "917/917 [==============================] - 1s 2ms/step - loss: 0.6322 - accuracy: 0.6352 - val_loss: 0.6434 - val_accuracy: 0.6228\n",
      "Epoch 39/55\n",
      "917/917 [==============================] - 2s 2ms/step - loss: 0.6298 - accuracy: 0.6387 - val_loss: 0.6346 - val_accuracy: 0.6371\n",
      "Epoch 40/55\n",
      "917/917 [==============================] - 2s 2ms/step - loss: 0.6308 - accuracy: 0.6397 - val_loss: 0.6346 - val_accuracy: 0.6243\n",
      "Epoch 41/55\n",
      "917/917 [==============================] - 1s 1ms/step - loss: 0.6302 - accuracy: 0.6374 - val_loss: 0.6307 - val_accuracy: 0.6430\n",
      "Epoch 42/55\n",
      "917/917 [==============================] - 1s 2ms/step - loss: 0.6295 - accuracy: 0.6382 - val_loss: 0.6335 - val_accuracy: 0.6410\n",
      "Epoch 43/55\n",
      "917/917 [==============================] - 1s 2ms/step - loss: 0.6301 - accuracy: 0.6378 - val_loss: 0.6374 - val_accuracy: 0.6415\n",
      "Epoch 44/55\n",
      "917/917 [==============================] - 1s 2ms/step - loss: 0.6317 - accuracy: 0.6372 - val_loss: 0.6399 - val_accuracy: 0.6410\n",
      "Epoch 45/55\n",
      "917/917 [==============================] - 2s 2ms/step - loss: 0.6318 - accuracy: 0.6326 - val_loss: 0.6376 - val_accuracy: 0.6193\n",
      "Epoch 46/55\n",
      "917/917 [==============================] - 1s 1ms/step - loss: 0.6307 - accuracy: 0.6357 - val_loss: 0.6362 - val_accuracy: 0.6243\n",
      "Epoch 47/55\n",
      "917/917 [==============================] - 1s 2ms/step - loss: 0.6318 - accuracy: 0.6353 - val_loss: 0.6369 - val_accuracy: 0.6174\n",
      "Epoch 48/55\n",
      "917/917 [==============================] - 2s 2ms/step - loss: 0.6300 - accuracy: 0.6394 - val_loss: 0.6529 - val_accuracy: 0.6386\n",
      "Epoch 49/55\n",
      "917/917 [==============================] - 1s 1ms/step - loss: 0.6300 - accuracy: 0.6389 - val_loss: 0.6426 - val_accuracy: 0.6292\n",
      "Epoch 50/55\n",
      "917/917 [==============================] - 1s 1ms/step - loss: 0.6308 - accuracy: 0.6394 - val_loss: 0.6459 - val_accuracy: 0.6376\n",
      "Epoch 51/55\n",
      "917/917 [==============================] - 1s 1ms/step - loss: 0.6333 - accuracy: 0.6281 - val_loss: 0.6378 - val_accuracy: 0.6139\n",
      "Epoch 52/55\n",
      "917/917 [==============================] - 1s 1ms/step - loss: 0.6310 - accuracy: 0.6356 - val_loss: 0.6376 - val_accuracy: 0.6410\n",
      "Epoch 53/55\n",
      "917/917 [==============================] - 1s 1ms/step - loss: 0.6301 - accuracy: 0.6395 - val_loss: 0.6322 - val_accuracy: 0.6395\n",
      "Epoch 54/55\n",
      "917/917 [==============================] - 1s 1ms/step - loss: 0.6283 - accuracy: 0.6423 - val_loss: 0.6347 - val_accuracy: 0.6366\n",
      "Epoch 55/55\n",
      "917/917 [==============================] - 1s 1ms/step - loss: 0.6302 - accuracy: 0.6394 - val_loss: 0.6366 - val_accuracy: 0.6386\n"
     ]
    },
    {
     "data": {
      "text/plain": [
       "<keras.src.callbacks.History at 0x7f3d653e72e0>"
      ]
     },
     "execution_count": 43,
     "metadata": {},
     "output_type": "execute_result"
    }
   ],
   "source": [
    "model3.fit(x_dataset2_train, y_dataset2_train, epochs=55, batch_size=68, validation_data=(x_dataset2_test,y_dataset2_test))"
   ]
  },
  {
   "cell_type": "code",
   "execution_count": 44,
   "metadata": {},
   "outputs": [],
   "source": [
    "#model3.save('models/keras_model3_64_relu_leaky.h5')"
   ]
  },
  {
   "cell_type": "code",
   "execution_count": 45,
   "metadata": {},
   "outputs": [
    {
     "name": "stdout",
     "output_type": "stream",
     "text": [
      " 1/64 [..............................] - ETA: 1s - loss: 0.6721 - accuracy: 0.5938"
     ]
    },
    {
     "name": "stdout",
     "output_type": "stream",
     "text": [
      "64/64 [==============================] - 0s 1ms/step - loss: 0.6366 - accuracy: 0.6386\n",
      "Loss: 0.6365724802017212\n",
      "Accuracy: 0.6385601758956909\n"
     ]
    }
   ],
   "source": [
    "results=model3.evaluate(x_dataset2_test,y_dataset2_test)\n",
    "print(\"Loss:\", results[0])\n",
    "print(\"Accuracy:\", results[1])"
   ]
  }
 ],
 "metadata": {
  "kernelspec": {
   "display_name": "Python 3",
   "language": "python",
   "name": "python3"
  },
  "language_info": {
   "codemirror_mode": {
    "name": "ipython",
    "version": 3
   },
   "file_extension": ".py",
   "mimetype": "text/x-python",
   "name": "python",
   "nbconvert_exporter": "python",
   "pygments_lexer": "ipython3",
   "version": "3.10.12"
  }
 },
 "nbformat": 4,
 "nbformat_minor": 2
}
