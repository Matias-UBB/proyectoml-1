{
 "cells": [
  {
   "cell_type": "code",
   "execution_count": 1,
   "metadata": {},
   "outputs": [
    {
     "name": "stdout",
     "output_type": "stream",
     "text": [
      "Index(['player1_id', 'player1_ht', 'player1_age', 'player2_id', 'player2_ht',\n",
      "       'player2_age', 'player1_rank_points', 'player2_rank_points',\n",
      "       'player_id_win', 'surface_encoded', 'player1_hand_encoded',\n",
      "       'player2_hand_encoded', 'tourney_level_encoded',\n",
      "       'player1_entry_encoded', 'player2_entry_encoded'],\n",
      "      dtype='object')\n"
     ]
    },
    {
     "name": "stderr",
     "output_type": "stream",
     "text": [
      "/tmp/ipykernel_20688/3204697401.py:13: SettingWithCopyWarning: \n",
      "A value is trying to be set on a copy of a slice from a DataFrame.\n",
      "Try using .loc[row_indexer,col_indexer] = value instead\n",
      "\n",
      "See the caveats in the documentation: https://pandas.pydata.org/pandas-docs/stable/user_guide/indexing.html#returning-a-view-versus-a-copy\n",
      "  data_selected_test['player_id_win'] = data_selected_test['winner_id']\n"
     ]
    }
   ],
   "source": [
    "import pandas as pd\n",
    "import numpy as np\n",
    "from matplotlib import pyplot as plt\n",
    "\n",
    "data_test=pd.read_csv('atp_matches_2023.csv')\n",
    "\n",
    "# Seleccionar las columnas deseadas\n",
    "selected_columns = ['tourney_id', 'surface', 'tourney_level', 'winner_id', 'winner_entry', 'winner_hand', 'winner_ht', 'winner_age', 'loser_id', 'loser_entry', 'loser_hand', 'loser_ht', 'loser_age', 'winner_rank_points', 'loser_rank_points']\n",
    "# Se crea un dataframe con las columnas seleccionadas\n",
    "data_selected_test = data_test[selected_columns]\n",
    "\n",
    "# Crear una nueva columna llamada player_id_win\n",
    "data_selected_test['player_id_win'] = data_selected_test['winner_id']\n",
    "\n",
    "data_selected_test = data_selected_test.rename(columns={\n",
    "    'winner_id': 'player1_id',\n",
    "    'winner_entry': 'player1_entry',\n",
    "    'winner_hand': 'player1_hand',\n",
    "    'winner_ht': 'player1_ht',\n",
    "    'winner_age': 'player1_age',\n",
    "    'winner_rank_points': 'player1_rank_points',\n",
    "    'loser_id': 'player2_id',\n",
    "    'loser_entry': 'player2_entry',\n",
    "    'loser_hand': 'player2_hand',\n",
    "    'loser_ht': 'player2_ht',\n",
    "    'loser_age': 'player2_age',\n",
    "    'loser_rank_points': 'player2_rank_points'\n",
    "})\n",
    "# Mapeo para 'surface'\n",
    "surface_mapping = {'Clay': 0, 'Grass': 1, 'Hard': 2, 'Carpet': 3} \n",
    "data_selected_test['surface_encoded'] = data_selected_test['surface'].map(surface_mapping)\n",
    "\n",
    "# Mapeo para 'winner_hand'\n",
    "hand_mapping = {'R': 0, 'L': 1, 'U': 2}  # Puedes ajustar esto según tus datos\n",
    "data_selected_test['player1_hand_encoded'] = data_selected_test['player1_hand'].map(hand_mapping)\n",
    "data_selected_test['player2_hand_encoded'] = data_selected_test['player2_hand'].map(hand_mapping)\n",
    "data_selected_test = data_selected_test.drop(['surface', 'player1_hand','player2_hand'], axis=1)\n",
    "\n",
    "# Reemplazar el guion '-' con una cadena vacía ''\n",
    "data_selected_test['tourney_id'] = data_selected_test['tourney_id'].str.replace('-', '')\n",
    "\n",
    "tourney_level_mapping = {'G': 0, 'M': 1, 'A': 2, 'C': 3, 'S': 4, 'F': 5, 'D': 6}  # Puedes ajustar esto según tus datos\n",
    "data_selected_test['tourney_level_encoded'] = data_selected_test['tourney_level'].map(tourney_level_mapping)\n",
    "\n",
    "# Eliminar la columna original 'tourney_level'\n",
    "data_selected_test = data_selected_test.drop(['tourney_level'], axis=1)\n",
    "\n",
    "winner_entry_mapping = {'WC': 1, 'Q': 2, 'LL': 3, 'PR': 4} \n",
    "data_selected_test['player1_entry_encoded'] = data_selected_test['player1_entry'].map(winner_entry_mapping)\n",
    "data_selected_test['player2_entry_encoded'] = data_selected_test['player2_entry'].map(winner_entry_mapping)\n",
    "\n",
    "# Eliminar la columna original 'player1_entry' y 'player2_entry'\n",
    "data_selected_test = data_selected_test.drop(['player1_entry', 'player2_entry'], axis=1)\n",
    "# Reemplazar NaN con 0 en 'player1_entry_encoded' y 'player2_entry_encoded'\n",
    "data_selected_test['player1_entry_encoded'].fillna(0, inplace=True)\n",
    "data_selected_test['player2_entry_encoded'].fillna(0, inplace=True)\n",
    "\n",
    "# Eliminar la columna 'tourney_id'\n",
    "data_selected_test = data_selected_test.drop(['tourney_id'], axis=1)\n",
    "data_selected_test = data_selected_test.dropna()\n",
    "\n",
    "# Visualizar las primeras filas del DataFrame actualizado\n",
    "print(data_selected_test.columns)\n",
    "\n",
    "y_test= data_selected_test['player_id_win']\n",
    "x_test = data_selected_test.drop(['player_id_win'], axis=1)\n",
    "dataset2_test = data_selected_test.copy()\n",
    "dataset2_test['win'] = 1\n",
    "\n",
    "# Establecer una semilla para reproducibilidad\n",
    "np.random.seed(42)\n",
    "tamano_subset = int(0.55 * len(dataset2_test))\n",
    "\n",
    "# Seleccionar al azar un subconjunto de filas para intercambiar las instancias\n",
    "indices_a_cambiar = np.random.choice(dataset2_test.index, size=tamano_subset, replace=False)  # ajusta el tamaño según sea necesario\n",
    "\n",
    "# Copiar las características y etiquetas de Player 1 en dataset2\n",
    "features_player1 = dataset2_test.loc[indices_a_cambiar, [\n",
    "    'player1_id', 'player1_ht', 'player1_age', 'player1_rank_points',\n",
    "    'player1_hand_encoded', 'player1_entry_encoded'\n",
    "]]\n",
    "labels_player1 = 1 - dataset2_test.loc[indices_a_cambiar, 'win']  # Invertir las etiquetas para representar victorias de Player 2\n",
    "\n",
    "# Copiar las características y etiquetas de Player 2 en dataset2\n",
    "features_player2 = dataset2_test.loc[indices_a_cambiar, [\n",
    "    'player2_id', 'player2_ht', 'player2_age', 'player2_rank_points',\n",
    "    'player2_hand_encoded', 'player2_entry_encoded'\n",
    "]]\n",
    "labels_player2 = dataset2_test.loc[indices_a_cambiar, 'win']\n",
    "\n",
    "# Actualizar las instancias de Player 1 en dataset2 con las de Player 2\n",
    "dataset2_test.loc[indices_a_cambiar, [\n",
    "    'player1_id', 'player1_ht', 'player1_age', 'player1_rank_points',\n",
    "    'player1_hand_encoded', 'player1_entry_encoded'\n",
    "]] = features_player2.values\n",
    "dataset2_test.loc[indices_a_cambiar, 'win'] = labels_player2.values  # Invertir las etiquetas en 'win'\n",
    "\n",
    "# Actualizar las instancias de Player 2 en dataset2 con las de Player 1\n",
    "dataset2_test.loc[indices_a_cambiar, [\n",
    "    'player2_id', 'player2_ht', 'player2_age', 'player2_rank_points',\n",
    "    'player2_hand_encoded', 'player2_entry_encoded'\n",
    "]] = features_player1.values\n",
    "dataset2_test.loc[indices_a_cambiar, 'win'] = labels_player1.values\n",
    "\n",
    "# Verificar los primeros registros del DataFrame actualizado (dataset2_test)\n",
    "#print(dataset2_test.head())\n",
    "\n",
    "y_dataset2_test = dataset2_test['win']\n",
    "x_dataset2_test = dataset2_test.drop(['player_id_win','win'], axis=1)\n",
    "\n"
   ]
  },
  {
   "cell_type": "code",
   "execution_count": null,
   "metadata": {},
   "outputs": [],
   "source": []
  },
  {
   "cell_type": "code",
   "execution_count": 2,
   "metadata": {},
   "outputs": [
    {
     "name": "stdout",
     "output_type": "stream",
     "text": [
      "Los modelos seran evaluados con los datos de los partidos 2023, estos modelos fueron entrenados con los resultados de los partidos de tenis desde el año 2000 al 2022 \n",
      "\n"
     ]
    }
   ],
   "source": [
    "print(\"Los modelos seran evaluados con los datos de los partidos 2023, estos modelos fueron entrenados con los resultados de los partidos de tenis desde el año 2000 al 2022 \\n\")"
   ]
  },
  {
   "cell_type": "code",
   "execution_count": 3,
   "metadata": {},
   "outputs": [
    {
     "name": "stderr",
     "output_type": "stream",
     "text": [
      "2023-12-30 20:03:16.530422: I external/local_tsl/tsl/cuda/cudart_stub.cc:31] Could not find cuda drivers on your machine, GPU will not be used.\n",
      "2023-12-30 20:03:16.693863: E external/local_xla/xla/stream_executor/cuda/cuda_dnn.cc:9261] Unable to register cuDNN factory: Attempting to register factory for plugin cuDNN when one has already been registered\n",
      "2023-12-30 20:03:16.693935: E external/local_xla/xla/stream_executor/cuda/cuda_fft.cc:607] Unable to register cuFFT factory: Attempting to register factory for plugin cuFFT when one has already been registered\n",
      "2023-12-30 20:03:16.729407: E external/local_xla/xla/stream_executor/cuda/cuda_blas.cc:1515] Unable to register cuBLAS factory: Attempting to register factory for plugin cuBLAS when one has already been registered\n",
      "2023-12-30 20:03:16.834049: I external/local_tsl/tsl/cuda/cudart_stub.cc:31] Could not find cuda drivers on your machine, GPU will not be used.\n",
      "2023-12-30 20:03:16.851220: I tensorflow/core/platform/cpu_feature_guard.cc:182] This TensorFlow binary is optimized to use available CPU instructions in performance-critical operations.\n",
      "To enable the following instructions: AVX2 FMA, in other operations, rebuild TensorFlow with the appropriate compiler flags.\n",
      "2023-12-30 20:03:18.087886: W tensorflow/compiler/tf2tensorrt/utils/py_utils.cc:38] TF-TRT Warning: Could not find TensorRT\n",
      "2023-12-30 20:03:22.567536: I external/local_xla/xla/stream_executor/cuda/cuda_executor.cc:901] successful NUMA node read from SysFS had negative value (-1), but there must be at least one NUMA node, so returning NUMA node zero. See more at https://github.com/torvalds/linux/blob/v6.0/Documentation/ABI/testing/sysfs-bus-pci#L344-L355\n",
      "2023-12-30 20:03:22.574698: W tensorflow/core/common_runtime/gpu/gpu_device.cc:2256] Cannot dlopen some GPU libraries. Please make sure the missing libraries mentioned above are installed properly if you would like to use GPU. Follow the guide at https://www.tensorflow.org/install/gpu for how to download and setup the required libraries for your platform.\n",
      "Skipping registering GPU devices...\n"
     ]
    },
    {
     "name": "stdout",
     "output_type": "stream",
     "text": [
      "Modelo 1, capas densas activacion, relu\n",
      "64/64 [==============================] - 0s 934us/step - loss: 0.6458 - accuracy: 0.6386\n"
     ]
    },
    {
     "data": {
      "text/plain": [
       "[0.6458460092544556, 0.6385601758956909]"
      ]
     },
     "execution_count": 3,
     "metadata": {},
     "output_type": "execute_result"
    }
   ],
   "source": [
    "from tensorflow.keras.models import load_model\n",
    "from sklearn.metrics import accuracy_score\n",
    "\n",
    "# Cargar el modelo desde el archivo\n",
    "modelo1 = load_model('models/keras_model1_relu62.h5')\n",
    "print(\"Modelo 1, capas densas activacion, relu\")\n",
    "# Utilizar el modelo cargado para predicciones, evaluación, etc.\n",
    "modelo1.evaluate(x_dataset2_test,y_dataset2_test)\n"
   ]
  },
  {
   "cell_type": "code",
   "execution_count": 4,
   "metadata": {},
   "outputs": [
    {
     "name": "stdout",
     "output_type": "stream",
     "text": [
      "Modelo 2 ,capas densas, activacion LeakyReLU\n",
      "64/64 [==============================] - 0s 1ms/step - loss: 0.6590 - accuracy: 0.6223\n"
     ]
    },
    {
     "data": {
      "text/plain": [
       "[0.6589759588241577, 0.6222879886627197]"
      ]
     },
     "execution_count": 4,
     "metadata": {},
     "output_type": "execute_result"
    }
   ],
   "source": [
    "# Cargar el modelo desde el archivo\n",
    "modelo2 = load_model('models/keras_model2_leaky63.h5')\n",
    "print(\"Modelo 2 ,capas densas, activacion LeakyReLU\")\n",
    "# Utilizar el modelo cargado para predicciones, evaluación, etc.\n",
    "modelo2.evaluate(x_dataset2_test,y_dataset2_test)"
   ]
  },
  {
   "cell_type": "code",
   "execution_count": 5,
   "metadata": {},
   "outputs": [
    {
     "name": "stdout",
     "output_type": "stream",
     "text": [
      "Modelo 2 ,capas densas, activacion LeakyReLU\n",
      "64/64 [==============================] - 0s 934us/step - loss: 0.6389 - accuracy: 0.6326\n"
     ]
    },
    {
     "data": {
      "text/plain": [
       "[0.6388853192329407, 0.6326429843902588]"
      ]
     },
     "execution_count": 5,
     "metadata": {},
     "output_type": "execute_result"
    }
   ],
   "source": [
    "# Cargar el modelo desde el archivo\n",
    "modelo3 = load_model('models/keras_model3_64_relu_leaky.h5')\n",
    "print(\"Modelo 2 ,capas densas, activacion LeakyReLU\")\n",
    "# Utilizar el modelo cargado para predicciones, evaluación, etc.\n",
    "modelo3.evaluate(x_dataset2_test,y_dataset2_test)"
   ]
  },
  {
   "cell_type": "code",
   "execution_count": 3,
   "metadata": {},
   "outputs": [],
   "source": [
    "import joblib\n",
    "from sklearn.metrics import accuracy_score\n",
    "\n",
    "# Cargar el modelo\n",
    "modelo_forest = joblib.load('models/random_forest_model27_comp.pkl')"
   ]
  },
  {
   "cell_type": "code",
   "execution_count": 4,
   "metadata": {},
   "outputs": [
    {
     "name": "stdout",
     "output_type": "stream",
     "text": [
      "Precisión en datos de prueba: 0.2702169625246548\n"
     ]
    }
   ],
   "source": [
    "y_pred = modelo_forest.predict(x_test)\n",
    "\n",
    "# Calcular la precisión (accuracy)\n",
    "precision = accuracy_score(y_test, y_pred)\n",
    "print(f'Precisión en datos de prueba: {precision}')"
   ]
  },
  {
   "cell_type": "code",
   "execution_count": 6,
   "metadata": {},
   "outputs": [
    {
     "name": "stdout",
     "output_type": "stream",
     "text": [
      "Modelo 5,randomforest, con set valanceado \n"
     ]
    }
   ],
   "source": [
    "print(\"Modelo 5,randomforest, con set valanceado \")\n",
    "modelo_forest2 = joblib.load('models/random_forest_model5.plk')\n",
    "y_pred_forest2=modelo_forest2.predict(x_dataset2_test)\n",
    "\n"
   ]
  },
  {
   "cell_type": "code",
   "execution_count": 7,
   "metadata": {},
   "outputs": [
    {
     "name": "stdout",
     "output_type": "stream",
     "text": [
      "Precisión en datos de prueba: 0.653353057199211\n"
     ]
    }
   ],
   "source": [
    "precision2=accuracy_score(y_dataset2_test,y_pred_forest2)\n",
    "print(f'Precisión en datos de prueba: {precision2}')"
   ]
  }
 ],
 "metadata": {
  "kernelspec": {
   "display_name": "Python 3",
   "language": "python",
   "name": "python3"
  },
  "language_info": {
   "codemirror_mode": {
    "name": "ipython",
    "version": 3
   },
   "file_extension": ".py",
   "mimetype": "text/x-python",
   "name": "python",
   "nbconvert_exporter": "python",
   "pygments_lexer": "ipython3",
   "version": "3.10.12"
  }
 },
 "nbformat": 4,
 "nbformat_minor": 2
}
